{
 "cells": [
  {
   "cell_type": "code",
   "execution_count": null,
   "metadata": {},
   "outputs": [],
   "source": [
    "import matplotlib.pyplot as plt\n",
    "import seaborn as sns\n",
    "import numpy as np\n",
    "import pandas as pd\n",
    "\n",
    "sns.set_theme()"
   ]
  },
  {
   "cell_type": "code",
   "execution_count": null,
   "metadata": {},
   "outputs": [],
   "source": [
    "def plotDataStackBar(file, nIter, title, colsToUse):\n",
    "    fig, (ax1) = plt.subplots(1,1)\n",
    "    dataMaxMeans = buildData(file, nIter, colsToUse, True)\n",
    "    #dataMeanMeans = buildData(file, nIter, colsToUse, False)\n",
    "    buildAx(title + \" - Max time\", ax1, dataMaxMeans)\n",
    "    #buildAx(title + \" - Mean time\", ax2, dataMeanMeans)\n",
    "   \n",
    "def buildData(file, nIter, colsToUse, isMax):\n",
    "    data = pd.read_csv(file,header=0,sep=\";\")\n",
    "    data = data[::2] if isMax else data[1::2]\n",
    "    dataMeans = pd.DataFrame([data[i:i+nIter].mean() for i in range(0, len(data), nIter)])\n",
    "    dataMeans = dataMeans[colsToUse]\n",
    "    dataMeans = dataMeans.reindex(dataMeans.mean().sort_values(ascending=False).index, axis=1)\n",
    "    return dataMeans\n",
    "        \n",
    "def buildAx(title, ax, data):\n",
    "    xTicks = [2**i for i in range(len(data))] \n",
    "    ax.set_xscale(\"log\", base=2)\n",
    "    bar_data = np.array([data[col] for col in data.columns])\n",
    "    widths = np.diff(xTicks + [xTicks[-1] * 2])*0.4\n",
    "    ax.bar(xTicks, bar_data[0], widths, label=data.columns[0])\n",
    "    for i in range(1, bar_data.shape[0]):\n",
    "        ax.bar(xTicks, bar_data[i], widths, bottom=np.sum(bar_data[:i], axis=0), label=data.columns[i])\n",
    "    xLabels = [str(i) for i in xTicks]\n",
    "    ax.set_xticks(xTicks, xLabels)\n",
    "    y_ticks = ax.get_yticks()\n",
    "    ax.set_ylim(0, max(y_ticks))\n",
    "    ax.set_xlabel(\"Number of MPI tasks\")\n",
    "    ax.set_ylabel(\"Time (s)\")\n",
    "    ax.set_title(title)\n",
    "    ax.legend(loc=\"upper right\")\n",
    "    # ax_twin = ax.twinx()\n",
    "    # scalability = [[data[col].iloc[0] / data[col].iloc[j] for j in range(len(xTicks))] for col in data.columns]\n",
    "    # for i in range(len(scalability)):\n",
    "    #     ax_twin.plot(xTicks, scalability[i])\n",
    "    # ax_twin.set_yticks(y_ticks)\n",
    "    # maxScal = round(np.max(scalability)+0.01, 2)\n",
    "    # y_ticks_scal = [maxScal/(len(y_ticks)-1)*i for i in range(len(y_ticks))]\n",
    "    # ax_twin.set_ylim(0, maxScal)\n",
    "    # ax_twin.set_yticks(y_ticks_scal)\n",
    "    # ax_twin.grid(False)\n",
    "    # ax_twin.yaxis.set_major_formatter(FormatStrFormatter('%.2f'))\n",
    "    # ax_twin.set_ylabel('Scalability')\n",
    "    ax.plot()\n"
   ]
  },
  {
   "cell_type": "code",
   "execution_count": null,
   "metadata": {},
   "outputs": [],
   "source": [
    "# \"initacc\", \"copyin\", \"init\", \"update\", \"sendrecv\", \"evolve\", \"save\", \"copyout\", \"total\"\n",
    "colsToUse = [ \"init\", \"update\", \"sendrecv\"]\n",
    "plotDataStackBar(\"cpu12000.csv\", 1, \"CPU, size 12000, 10 iter\", colsToUse)"
   ]
  },
  {
   "cell_type": "code",
   "execution_count": null,
   "metadata": {},
   "outputs": [],
   "source": [
    "def read_data(files, cols_to_use):\n",
    "    data_frames = []\n",
    "    for file in files:\n",
    "        df = pd.read_csv(file, usecols=cols_to_use, header=0, sep=\";\")\n",
    "        data_frames.append(df)\n",
    "    return data_frames\n",
    "\n",
    "def plot_stack_bar(data_frames, titles):\n",
    "    fig, ax = plt.subplots(1, 1)\n",
    "    fig.set_figheight(5)\n",
    "    fig.set_figwidth(10)    \n",
    "    datacpu12001 = data_frames[0].loc[0].to_frame().T\n",
    "    datagpu12001 = data_frames[1].loc[0].to_frame().T\n",
    "    datacpu120001 = data_frames[2].loc[0].to_frame().T\n",
    "    datagpu120001 = data_frames[3].loc[0].to_frame().T\n",
    "    datagpu400008 = data_frames[4].loc[10].to_frame().T\n",
    "    dfs = [datacpu12001, datagpu12001, datacpu120001, datagpu120001, datagpu400008]\n",
    "    combined_df = pd.concat(dfs, ignore_index=True)\n",
    "    x_ticks = np.arange(len(dfs))\n",
    "    bottom = np.zeros(combined_df.shape[0])\n",
    "    for col in combined_df.columns:\n",
    "        ax.bar(x_ticks, combined_df[col], bottom=bottom, width=0.8, label=col)\n",
    "        bottom += combined_df[col]\n",
    "    ax.set_xticks(x_ticks)\n",
    "    ax.set_xticklabels(titles)\n",
    "    ax.set_ylabel(\"Time\")\n",
    "    ax.set_title(\"Comparison between CPU and GPU for different sizes and 1 node\")\n",
    "    ax.legend(loc='upper left')\n",
    "    plt.show()\n",
    "\n",
    "files = ['cpu1200.csv','gpu1200.csv', 'cpu12000.csv', 'gpu12000.csv', 'gpu40000.csv'] \n",
    "cols_to_use = [\"initacc\",\"init\", \"update\", \"sendrecv\", \"copyout\"] \n",
    "titles = ['CPU, 1200-10', 'GPU, 1200-10', 'CPU, 12000-10', 'GPU, 12000-10', 'GPU, 40000-1000\\n(8 nodes)']\n",
    "\n",
    "plot_stack_bar(read_data(files, cols_to_use), titles)"
   ]
  }
 ],
 "metadata": {
  "kernelspec": {
   "display_name": "python3.10",
   "language": "python",
   "name": "python3"
  },
  "language_info": {
   "codemirror_mode": {
    "name": "ipython",
    "version": 3
   },
   "file_extension": ".py",
   "mimetype": "text/x-python",
   "name": "python",
   "nbconvert_exporter": "python",
   "pygments_lexer": "ipython3",
   "version": "3.10.13"
  }
 },
 "nbformat": 4,
 "nbformat_minor": 2
}
